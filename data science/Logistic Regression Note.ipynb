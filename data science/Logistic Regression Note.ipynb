{
 "cells": [
  {
   "cell_type": "markdown",
   "metadata": {},
   "source": [
    "# Logistic Regression : A Generalization of Linear Regression\n",
    "\n",
    "## Introduction\n",
    "Linear regression is a commonly used tool in statistics. The linear regression model assumes a linear relationship between the input variables and the output variable. That means we assume the output to be a weighted sum of the inputs. Mathematically this is written as,\n",
    "\n",
    "$$y=w^{T} . x = L(x,w)$$\n",
    "\n",
    "where $y$ is the output predicted by the linear regression model, $x$ is the vector consisting of the input variable values, $W$ is the weight associated with each input and $w$ are the numerical values for those weights. $L(x,w)$ represents our linear model.\n",
    "\n",
    "This model gives you a real numbered output between $-\\infty$ to $\\infty$. This is good when we require a continuous valued output. But sometimes what we need is an output that tells us to which class a particular input vector belongs. Or even better, the probability with which it belongs to a particular class.\n",
    "\n",
    "Since linear regression is such a common model, naturally there has been attempts to tweak this model so as to achive this requirement, and logistic regression is the most popular outcome of this effort. \n",
    "\n",
    "## The Range Mismatch \n",
    "So now we need to generalize linear regression to output a probability instead of some real number. Ideally, if we want to model something as a linear regression all we need to do is equate it to $L(x,w)$. So in this case since we want to model the probability of an input $x$ being in say, class 1, we should ideally do something like,\n",
    "\n",
    "$$P(x,w) = L(x, W=w) = w^{T}\\cdot x$$\n",
    "\n",
    "where $P(x,w) = Prob(class=1 | x; w)$ is the probability that the input $x$ belongs to class 1. But this won't hold up mathematically unless you place constraints on $w$ and $x$ (and it is not a good idea to palce constraints on the inputs). This is because the weighted sum can take up any value between $-\\infty$ to $\\infty$ but probability should always be a value between $0$ and $1$ (inclusive). So, the range of the function $P(x,w)$ and $L(x,w)$ does not match. How do we solve this problem?\n",
    "\n",
    "## Constructing a function of P(x,w) with Matching Range\n",
    "Since ranges of the two functions do not match we need to change one of them. And since we have already decided to stick to the linear model, we only have one choice, i.e, to change $P(x,w)$. But isn't our aim to predict the probability of an input being in a particular class? So how can we take $P(x,w)$ out of the equation? We can't. But what we can do is find a function of $P(x,w)$ which has a range of $( -\\infty, \\infty )$. Ofcourse, there are probably an infinite number of ways to map the interval $[0,1]$ to $( -\\infty, \\infty )$. We will choose one which is well interpretable (and which leads to the logistic regression model, since thats what this post is all about!). Let us do this in two steps.\n",
    "\n",
    "1. We define a function called \"odds\" function represented as \n",
    "    $$\\mathbb{O}(P(x,w))=\\frac{P(x,w)}{1-P(x,w)}$$\n",
    "\n",
    "    A few quick calculations will show that,\n",
    "\n",
    "    $\\mathbb{O}(0) = 0$\n",
    "\n",
    "    $\\mathbb{O}(0.5) = 1$\n",
    "\n",
    "    $\\mathbb{O}(1) = \\infty$\n",
    "\n",
    "    We can see that this function has a range of $[0, \\infty)$. Also note that this function seems to be unevenly distributed for it's inputs. For inputs from the interval $[0, 0.5]$ it gives outputs from the interval $[0, 1]$ but for inputs from the interval $(0.5, 1]$ it gives outputs from the interval $(1, \\infty)$. This is despite the fact that both these input intevals are of the same size. This function again, cannot be fitted with $L(x,w)$ because of the range mismatch.\n",
    "    \n",
    "2. Now let us perform anothe transformation on $\\mathbb{O}$ such that it's range expands to $(-\\infty, \\infty)$. This will be the function to which we fit $L(x,w)$. Again, there are many possible mappings of a function from $[0, \\infty)$ to $(-\\infty, \\infty)$ but it turns out taking the natural log of $\\mathbb{O}$ gives us the desired range, while also being easy to work with (rather surprisingly!). This function is called the \"log odds\" function. So lets define,\n",
    "\n",
    "    $$\\mathbb{R}(\\mathbb{O}(P(x,w))) = ln(\\mathbb{O}(P(x,w))) = ln \\left( \\frac{P(x,w)}{1-P(x,w)} \\right) = \\mathbb{R}(P(x,w))$$\n",
    "\n",
    "    By definition, \n",
    "    $$b = ln(c) \\implies e^{b} = c$$ \n",
    "    So obviously,\n",
    "\n",
    "    $\\mathbb{R}(P(x,w)=1) = ln(\\infty) =\\infty$\n",
    "\n",
    "    $\\mathbb{R}(P(x,w)=0) = ln(0) =-\\infty$\n",
    "\n",
    "    $\\mathbb{R}(P(x,w)=0.5) = ln(1) =0$\n",
    "\n",
    "    This function is interesting. For example, if the probability of the input $x$ being in class 1 is $P(x,w)=0.7$, then the log odds is $\\mathbb{R}(0.7)=0.8473$. On the contrary, the log odds of the input $x$ not being in class 1 ($Q(x,w)=1-P(x,w)=0.3$) is $\\mathbb{R}(0.3)=-0.8473$. So the sum total of log odds of these only two possible options is $\\mathbb{R}(P(x,w))+\\mathbb{R}(Q(x,w))=0$. This is similar to $P(x,w)+Q(x,w)=1$. So we have managed to construct a function that has a range matching $L(x,w)$ and has properties similar to $P(x,w)$.\n",
    "\n",
    "    Now finally we can write,\n",
    "    $$\\mathbb{R}(P(x,w)) = ln \\left( \\frac{P(x,w)}{1-P(x,w)} \\right) =w^{T}\\cdot x=L(x, W=w)$$\n",
    "\n",
    "## Finding the Probability\n",
    "What we are interested in is the probability $P(x,w)=Prob(class=1 | x; w)$. We can retreive that as follows,\n",
    "\n",
    "$$ln \\left( \\frac{P(x,w)}{1-P(x,w)} \\right) =w^{T}\\cdot x$$ \n",
    "$$\\frac{P(x,w)}{1-P(x,w)} = e^{w^{T}\\cdot x}$$ \n",
    "$$P(x,w)(1 + e^{w^{T}\\cdot x}) = e^{w^{T}\\cdot x}$$ \n",
    "$$P(x,w) = \\frac{e^{w^{T}\\cdot x}}{1 + e^{w^{T}\\cdot x}} = S(x, w)$$\n",
    "\n",
    "We have arrived at the logistic model $S(x,w)$ which you may have seen before in connection with logistic regression. This function is in fact called the \"sigmoid\" function. This name is due to the fact that the graph of this function is S-shaped.\n",
    "\n",
    "## The Derivative\n",
    "One amazing thing about the sigmoid function is that it's derivative looks very neat. Lets derive it.\n",
    "\n",
    "$$\\frac{\\delta S(x,w)}{\\delta w} = \\frac{\\delta}{\\delta w}\\left( \\frac{e^{w^{T}\\cdot x}}{1 + e^{w^{T}\\cdot x}} \\right)$$ \n",
    "\n",
    "$$=\\left( \\frac{e^{w^{T}\\cdot x}}{(1 + e^{w^{T}\\cdot x})^{2}} \\right) \\cdot x$$ \n",
    "\n",
    "$$= \\left( \\frac{e^{w^{T}\\cdot x}}{1 + e^{w^{T}\\cdot x}} \\times  \\frac{1}{1 + e^{w^{T}\\cdot x}} \\right) \\cdot x$$ \n",
    "\n",
    "$$\\frac{\\delta S(x,w)}{\\delta w} = S(x,w) \\times (1 - S(x,w)) \\cdot x$$ \n",
    "\n",
    "This can be used when we want to compute $w$ using iterative algorithms like gradient descent.\n",
    "\n",
    "## Computation\n",
    "### Cost Function\n",
    "The cost function that is usually minimized to find $w$ when using the logistic model is cross-entropy. This function takes the form,\n",
    "\n",
    "$$C(S(x,w),y) = - (y \\times ln(S(x,w)) + (1 - y) \\times ln(1 - S(x,w)))$$\n",
    "\n",
    "where $y$ is the actual output (assumed to be 1 if the input is in class 1, 0 otherwise) and $S(x,w)$ is the probability of input being in class 1 as calculated by the logistic model. \n",
    "\n",
    "Let's see what this cross-entropy function is telling us. Imagine the actual output is $y=1$. In that case, the function becomes,\n",
    "\n",
    "$$C(S(x,w),y) = - 1 \\times ln(S(x,w))$$\n",
    "\n",
    "Now if $S(x,w)$ is close to 1 $ln(S(x,w))$ will tend to 0, and $C(S(x,w),y)$ will also tend to 0. But if $S(x,w)$ is closer to 0 (i.e the logistic model's output contradicts the actual output), then $ln(S(x,w))$ will tend to $-\\infty$ which will make $C(S(x,w),y)$ tend to $\\infty$. Now you know why that negative sign is important in the cross-entropy function's equation.\n",
    "\n",
    "Similarly, when $y=0$, the function simpilifies to,\n",
    "\n",
    "$$C(S(x,w),y) = -1 \\times ln(1 - S(x,w))$$\n",
    "\n",
    "Now when $S(x,w)$ is close to 1, $ln(1-S(x,w))$ tends to $-\\infty$ and when $S(x,w)$ is closer to 0, $ln(1- S(x,w))$ tends to 0.\n",
    "\n",
    "We can see that the cross-entropy function just takes on a bigger value when the actual output and the predicted output are mismatched. So it is a good fit for the role of a cost function.\n",
    "\n",
    "### Gradient Descent\n",
    "The gradient descent algorithm can be summarized as,\n",
    "\n",
    "$$w_{new} = w_{old} - \\alpha \\times \\frac{1}{N} \\sum_{i=1}^{N} \\left[ \\frac{\\delta C(S(x_{i},w),y_{i})}{\\delta w} \\right]_{w=w_{old}}$$\n",
    "\n",
    "where $\\alpha$ is a tunable parameter called \"learning rate\". \n",
    "\n",
    "The gradient descent algorithms will :\n",
    "1. Start with some random value for $w$.\n",
    "\n",
    "2. Compute S(x,w) with this $w$.\n",
    "\n",
    "3. Compute the cost function $C(S(x,w), y)$ for different samples (i.e x,y pairs).\n",
    "\n",
    "4. Compute the derivative $\\left[ \\frac{\\delta C(S(x,w),y)}{\\delta w} \\right]_{w=w_{old}}$ for each sample.\n",
    "\n",
    "5. Average out the value for the derivative across all samples.\n",
    "\n",
    "6. Apply the above formula to find the new $w$.\n",
    "\n",
    "7. Repeat until some stoppage criteria is met.\n",
    "\n",
    "The important step here is to compute the derivative of the cost function w.r.t $w$. Let's derive this.\n",
    "\n",
    "Using chain rule for derivatives,\n",
    "\n",
    "$$\\frac{\\delta C(S(x),y)}{\\delta w} = \\frac{\\delta C(S(x,w), y)}{\\delta S(x,w)} \\times \\frac{\\delta S(x,w)}{w}$$\n",
    "\n",
    "Using multiplication rule for derivatives for the first derivative and using the derivative for $S(x,w)$ we derived in the previous section for the second derivative we get,\n",
    "\n",
    "$$\\frac{\\delta C(S(x),y)}{\\delta w}  = - \\left( \\frac{y}{S(x,w)} - \\frac{1-y}{1-S(x,w)} \\right) \\times S(x,w) \\times (1 - S(x,w)) \\cdot x = \\frac{(S(x,w) - y) \\times S(x,w) \\times (1 - S(x,w))}{S(x,w) \\times (1 - S(x,w))} \\cdot x$$\n",
    "\n",
    "Cancelling out the common terms in the numerator and denominator we finally get,\n",
    "\n",
    "$$\\frac{\\delta C(S(x),y)}{\\delta w}  = (S(x,w) - y) \\cdot x$$\n",
    "\n",
    "### Including a Bias\n",
    "Normally, the linear model that is being fit will also include a weight variable which is added without being multiplied to any input. This makes the linear model look like,\n",
    "\n",
    "$$L(x,w,b)=w^{T} \\cdot x + b$$\n",
    "\n",
    "I am talking about the extra $b$ variable. We can easily add a bias term to the linear model without any change of notation if we do the following,\n",
    "1. Append a 1 to the input vector. i.e, let $x = [1, x]^{T}$\n",
    "2. Append the variable $b$ to the weight vector. i.e, let $w = [b, w]^{T}$\n",
    "\n",
    "By modifying the variables in this manner, you can account for the bias term without any change in the notation discussed above. "
   ]
  },
  {
   "cell_type": "markdown",
   "metadata": {},
   "source": [
    "## Coding a Logistic Regression Model from Scratch"
   ]
  },
  {
   "cell_type": "code",
   "execution_count": 9,
   "metadata": {},
   "outputs": [],
   "source": [
    "import numpy as np\n",
    "import matplotlib.pyplot as plt"
   ]
  },
  {
   "cell_type": "code",
   "execution_count": 83,
   "metadata": {},
   "outputs": [],
   "source": [
    "def sigmoid(x, w):\n",
    "    z = np.exp(-np.matmul(x, w))\n",
    "    return np.ones_like(z) / (np.ones_like(z) + z)"
   ]
  },
  {
   "cell_type": "code",
   "execution_count": 113,
   "metadata": {},
   "outputs": [],
   "source": [
    "def cross_entropy(s, y):\n",
    "    epsilon = 1e-7\n",
    "    zero_part = y * np.log(s + epsilon)\n",
    "    one_part = (np.ones_like(y) - y) * np.log(np.ones_like(s) - s + epsilon)\n",
    "    val = - (1 / y.shape[0]) * np.sum(zero_part + one_part)\n",
    "    return val"
   ]
  },
  {
   "cell_type": "code",
   "execution_count": 85,
   "metadata": {},
   "outputs": [],
   "source": [
    "def gradient(s, y, x):\n",
    "    return (s - y) * x"
   ]
  },
  {
   "cell_type": "code",
   "execution_count": 116,
   "metadata": {},
   "outputs": [],
   "source": [
    "def train(features, labels, alpha, num_iter=10000):\n",
    "    num_inputs = features.shape[0]\n",
    "    input_size = features.shape[1]\n",
    "    \n",
    "    w = np.random.rand(input_size, 1)\n",
    "    for i in range(num_iter) :\n",
    "        s = sigmoid(features, w)\n",
    "        c = cross_entropy(s, labels)\n",
    "        g = np.sum(gradient(s, labels, features).T, axis=1, keepdims=True) / num_inputs\n",
    "        w = w - alpha * g\n",
    "        \n",
    "        if (i+1) % 1000 == 0 :  \n",
    "            print(\"Iteration  : \", i + 1, \" cost : \", c)\n",
    "        \n",
    "    return w"
   ]
  },
  {
   "cell_type": "markdown",
   "metadata": {},
   "source": [
    "Lets create some dummy data and labels to try out this model. Notice that we are appending an array of ones to the features in order to account for the bias weights."
   ]
  },
  {
   "cell_type": "code",
   "execution_count": 87,
   "metadata": {},
   "outputs": [],
   "source": [
    "features = np.array([10, 15, 5, 7]).reshape((4, 1))\n",
    "features = np.hstack((features, np.ones((4,1))))\n",
    "labels = np.array([1, 1, 0, 0]).reshape((4, 1))"
   ]
  },
  {
   "cell_type": "markdown",
   "metadata": {},
   "source": [
    "Now we will calculate the weights required to correctly predict the class labels, using gradient descent. The bias term will also be included in the weight vector returned by the function."
   ]
  },
  {
   "cell_type": "code",
   "execution_count": 117,
   "metadata": {},
   "outputs": [
    {
     "name": "stdout",
     "output_type": "stream",
     "text": [
      "Iteration  :  1000  cost :  0.033237116194023704\n",
      "Iteration  :  2000  cost :  0.022155567944981008\n",
      "Iteration  :  3000  cost :  0.016604891197097918\n"
     ]
    }
   ],
   "source": [
    "w = train(features, labels, 0.5, 3000)"
   ]
  },
  {
   "cell_type": "markdown",
   "metadata": {},
   "source": [
    "Let us plot the features, labels and the learned sigmoid function."
   ]
  },
  {
   "cell_type": "code",
   "execution_count": 118,
   "metadata": {},
   "outputs": [
    {
     "name": "stdout",
     "output_type": "stream",
     "text": [
      "(100, 2)\n",
      "(100, 1)\n"
     ]
    },
    {
     "data": {
      "image/png": "[encoded data removed]",
      "text/plain": [
       "<Figure size 432x288 with 1 Axes>"
      ]
     },
     "metadata": {
      "needs_background": "light"
     },
     "output_type": "display_data"
    }
   ],
   "source": [
    "plt.figure()\n",
    "plt.scatter(features[:,0], labels, color='r')\n",
    "sig_x = np.linspace(np.min(features[:,0]), np.max(features[:,0]), num=100).reshape((100,1))\n",
    "sig_x = np.hstack((sig_x, np.ones((100,1))))\n",
    "print(sig_x.shape)\n",
    "sig_y = sigmoid(sig_x, w)\n",
    "print(sig_y.shape)\n",
    "plt.plot(sig_x[:,0], sig_y)\n",
    "\n",
    "plt.show()"
   ]
  },
  {
   "cell_type": "markdown",
   "metadata": {},
   "source": [
    "As you can see, the weights have been adjusted in such a way that the sigmoid function takes a value near 1 for samples labelled 1, and 0 for sampels labelled 0."
   ]
  },
  {
   "cell_type": "markdown",
   "metadata": {},
   "source": [
    "### The Weights Learned"
   ]
  },
  {
   "cell_type": "code",
   "execution_count": 119,
   "metadata": {},
   "outputs": [
    {
     "name": "stdout",
     "output_type": "stream",
     "text": [
      "[[2.273]\n",
      " [-19.146]]\n"
     ]
    }
   ],
   "source": [
    "np.set_printoptions(formatter={\"float_kind\": lambda x: \"%.3f\" % x}) # just something to make numpy arrays print pretty\n",
    "print(w)"
   ]
  },
  {
   "cell_type": "markdown",
   "metadata": {},
   "source": [
    "### The Numerical Output from the Logistic Model"
   ]
  },
  {
   "cell_type": "code",
   "execution_count": 120,
   "metadata": {},
   "outputs": [
    {
     "name": "stdout",
     "output_type": "stream",
     "text": [
      "[[0.973]\n",
      " [1.000]\n",
      " [0.000]\n",
      " [0.038]]\n"
     ]
    }
   ],
   "source": [
    "print(sigmoid(features, w))"
   ]
  },
  {
   "cell_type": "code",
   "execution_count": null,
   "metadata": {},
   "outputs": [],
   "source": []
  }
 ],
 "metadata": {
  "kernelspec": {
   "display_name": "Python 3",
   "language": "python",
   "name": "python3"
  },
  "language_info": {
   "codemirror_mode": {
    "name": "ipython",
    "version": 3
   },
   "file_extension": ".py",
   "mimetype": "text/x-python",
   "name": "python",
   "nbconvert_exporter": "python",
   "pygments_lexer": "ipython3",
   "version": "3.7.4"
  }
 },
 "nbformat": 4,
 "nbformat_minor": 2
}
